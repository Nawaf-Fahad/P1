{
 "cells": [
  {
   "cell_type": "code",
   "execution_count": 4,
   "id": "b053c6cc",
   "metadata": {},
   "outputs": [],
   "source": [
    "import hashlib\n",
    "\n",
    "\n",
    "class Block:\n",
    "\n",
    "    def __init__(self, timestamp, data, previous_hash=None,prev=None):\n",
    "        self.timestamp = timestamp\n",
    "        self.data = data\n",
    "        self.previous_hash = previous_hash\n",
    "        self.hash = previous_hash\n",
    "        self.prev = prev\n",
    "\n",
    "\n",
    "class BlockChain:\n",
    "    def __init__(self):\n",
    "        self.head = None\n",
    "        self.tail=None\n",
    "\n",
    "    def __str__(self):\n",
    "        cur_head = self.tail\n",
    "        out_string = \"\"\n",
    "        while cur_head:\n",
    "            out_string += str(cur_head.data) + \" ->\"\n",
    "            cur_head = cur_head.prev\n",
    "        return out_string\n",
    "\n",
    "    def calc_hash(self, data):\n",
    "        sha = hashlib.sha256()\n",
    "\n",
    "        hash_str = data.encode('utf-8')\n",
    "\n",
    "        sha.update(hash_str)\n",
    "\n",
    "        return sha.hexdigest()\n",
    "\n",
    "    def append(self, data):\n",
    "        timestamp = time.strftime(\"%a, %d %b %Y %I:%M:%S %p %Z\", time.gmtime())\n",
    "\n",
    "        if self.head is None:\n",
    "            self.head = Block(timestamp, data, 0,None)\n",
    "            self.tail=self.head\n",
    "            self.head.next=self.tail\n",
    "            return\n",
    "\n",
    "        node=self.tail\n",
    "        previous_hash=self.calc_hash(node.data)\n",
    "        node.next = Block(timestamp, data, previous_hash,node)\n",
    "        self.tail=node.next\n",
    "\n",
    "    def size(self):\n",
    "        size = 0\n",
    "        node = self.head\n",
    "        while node:\n",
    "            size += 1\n",
    "            node = node.next\n",
    "\n",
    "        return size\n"
   ]
  },
  {
   "cell_type": "code",
   "execution_count": null,
   "id": "4d64ae5a",
   "metadata": {},
   "outputs": [],
   "source": []
  }
 ],
 "metadata": {
  "kernelspec": {
   "display_name": "Python 3",
   "language": "python",
   "name": "python3"
  },
  "language_info": {
   "codemirror_mode": {
    "name": "ipython",
    "version": 3
   },
   "file_extension": ".py",
   "mimetype": "text/x-python",
   "name": "python",
   "nbconvert_exporter": "python",
   "pygments_lexer": "ipython3",
   "version": "3.8.8"
  }
 },
 "nbformat": 4,
 "nbformat_minor": 5
}
