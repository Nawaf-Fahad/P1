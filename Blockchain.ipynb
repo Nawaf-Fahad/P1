{
 "cells": [
  {
   "cell_type": "code",
   "execution_count": 5,
   "id": "a3ebef4f",
   "metadata": {},
   "outputs": [
    {
     "name": "stdout",
     "output_type": "stream",
     "text": [
      "Say my name\n",
      "2ad7a668a18e0d4cd2c38bb67152085656dab0cd0794acfc757cb94f8863c692\n",
      "29/01/2022 02:45:18\n"
     ]
    }
   ],
   "source": [
    "import hashlib\n",
    "import datetime\n",
    "class Block:\n",
    "    \n",
    "\n",
    "    def __init__(self, timestamp, data, previous_hash):\n",
    "        self.timestamp = timestamp\n",
    "        self.data = data\n",
    "        self.previous_hash = previous_hash\n",
    "        self.hash = self.calc_hash(data)\n",
    "\n",
    "    def calc_hash(self, data):\n",
    "        sha = hashlib.sha256()\n",
    "        hash_str = data.encode('utf-8')\n",
    "        sha.update(hash_str)\n",
    "        return sha.hexdigest()\n",
    "\n",
    "\n",
    "class LinkedList:\n",
    "    def __init__(self):\n",
    "        self.head = None\n",
    "        self.last = None\n",
    "\n",
    "    def append(self, timestamp, data):\n",
    "        if not self.head:\n",
    "            self.head = Block(timestamp, data, 0)\n",
    "            self.last = self.head\n",
    "        else:\n",
    "            temp = self.last\n",
    "            self.last = Block(timestamp, data, temp)\n",
    "            self.last.previous_hash = temp\n",
    "\n",
    "def get_utc_time():\n",
    "    utc = datetime.datetime.utcnow()\n",
    "    return utc.strftime(\"%d/%m/%Y %H:%M:%S\")\n",
    "\n",
    "block0 = Block(get_utc_time(), \"Say my name\", 10)\n",
    "print(block0.data)\n",
    "print(block0.hash)\n",
    "print(block0.timestamp)"
   ]
  },
  {
   "cell_type": "code",
   "execution_count": null,
   "id": "9d8cb247",
   "metadata": {},
   "outputs": [],
   "source": []
  }
 ],
 "metadata": {
  "kernelspec": {
   "display_name": "Python 3",
   "language": "python",
   "name": "python3"
  },
  "language_info": {
   "codemirror_mode": {
    "name": "ipython",
    "version": 3
   },
   "file_extension": ".py",
   "mimetype": "text/x-python",
   "name": "python",
   "nbconvert_exporter": "python",
   "pygments_lexer": "ipython3",
   "version": "3.8.8"
  }
 },
 "nbformat": 4,
 "nbformat_minor": 5
}
