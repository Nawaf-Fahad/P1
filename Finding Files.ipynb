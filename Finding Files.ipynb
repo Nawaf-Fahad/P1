{
 "cells": [
  {
   "cell_type": "code",
   "execution_count": 3,
   "id": "76b55bd4",
   "metadata": {},
   "outputs": [],
   "source": [
    "import os\n",
    "\n",
    "def find_files(suffix, path):\n",
    "    if(suffix==None or path==None):\n",
    "        return \"There is some issues in suffix or path\"\n",
    "    files=[]\n",
    "    \n",
    "    \n",
    "    current_files = os.listdir(path)\n",
    "    \n",
    "    for f in current_files:\n",
    "        if os.path.isdir(path + \"/\" + f):\n",
    "            files += find_files(suffix, path + \"/\" + file)\n",
    "        elif f.endswith(suffix):\n",
    "            files.append(path + \"/\" + file)\n",
    "\n",
    "    return files\n",
    "\n",
    "    return None"
   ]
  },
  {
   "cell_type": "code",
   "execution_count": null,
   "id": "1e7461e9",
   "metadata": {},
   "outputs": [],
   "source": []
  }
 ],
 "metadata": {
  "kernelspec": {
   "display_name": "Python 3",
   "language": "python",
   "name": "python3"
  },
  "language_info": {
   "codemirror_mode": {
    "name": "ipython",
    "version": 3
   },
   "file_extension": ".py",
   "mimetype": "text/x-python",
   "name": "python",
   "nbconvert_exporter": "python",
   "pygments_lexer": "ipython3",
   "version": "3.8.8"
  }
 },
 "nbformat": 4,
 "nbformat_minor": 5
}
